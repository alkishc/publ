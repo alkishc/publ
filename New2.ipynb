{
  "cells": [
    {
      "cell_type": "markdown",
      "metadata": {
        "id": "view-in-github",
        "colab_type": "text"
      },
      "source": [
        "<a href=\"https://colab.research.google.com/github/alkishc/publ/blob/main/New2.ipynb\" target=\"_parent\"><img src=\"https://colab.research.google.com/assets/colab-badge.svg\" alt=\"Open In Colab\"/></a>"
      ]
    },
    {
      "cell_type": "code",
      "source": [
        "import math\n",
        "# @title CONDUCTOR AC RESISTANCE\n",
        "#@markdown Conductor material and temperature\n",
        "Material = 'Copper' # @param [\"Copper\", \"Aluminium\"]\n",
        "if Material == 'Copper' :\n",
        "  a_20 = 3.93e-3\n",
        "  ro=1.7241e-8\n",
        "else:\n",
        "  a_20=4.03e-3\n",
        "  ro=2.8264e-8\n",
        "θ=90 # @param {type:\"number\"}\n",
        "#@markdown Enter Conductor resistance at 20°C taken from IEC 60287\n",
        "R_20 = 0.124 # @param {type:\"number\"}\n",
        "#@markdown DC resistance at 90°C  equals :     $R' = R_{20}[1+a_{20}(\\theta-20) ]$\n",
        "\n",
        "#@markdown With Ks=1  and Kp=1  enter frequency f :\n",
        "R_1=float(R_20)*(1+float(a_20)*(float(θ)-20))\n",
        "ks=1\n",
        "f=60 # @param {type:\"number\"}\n",
        "kp=1\n",
        "xs=math.sqrt(8*math.pi*float(f)*1e-4*float(ks)/R_1)\n",
        "ys=xs**4/(192.0+0.8*xs**4)\n",
        "\n",
        "\n",
        "#@markdown Enter conductor diameter dc and pole diameter dj :\n",
        "dc=14.4# @param {type:\"number\"}\n",
        "dj=52.65# @param {type:\"number\"}\n",
        "xp=math.sqrt(8*math.pi*float(f)*1e-4*float(kp)/R_1)\n",
        "Fp=xp**4/(192+0.8*xp**4)\n",
        "yp=Fp*((dc/dj)**2)*(0.312*((dc/dj)**2)+1.18/(Fp+0.27))\n",
        "#@markdown AC resistance at 90°C  equals :     $R = R'(1+y_{s}+y_{s})$\n",
        "R_ac=R_1*(1+ys+yp)\n",
        "\n",
        "print(\"-DC Resistance at \",θ,\" °C R DC =:\",R_1,\"[Ω/m]\")\n",
        "print(\"-Skin effect factor         Ys =:\",ys,\"[-]\")\n",
        "print(\"-Proximity effect factor    Yp =:\",yp,\"[-]\")\n",
        "print(\"-AC Resistance at \",θ,\" °C R AC =:\",R_ac,\"[Ω/m]\")"
      ],
      "metadata": {
        "colab": {
          "base_uri": "https://localhost:8080/"
        },
        "cellView": "form",
        "id": "3W8LhlRzfKae",
        "outputId": "cf3bd86f-8c34-4b13-c789-d1cf03b9456c"
      },
      "execution_count": 41,
      "outputs": [
        {
          "output_type": "stream",
          "name": "stdout",
          "text": [
            "-DC Resistance at  90  °C R DC =: 0.15811240000000001 [Ω/m]\n",
            "-Skin effect factor         Ys =: 0.00471961165727035 [-]\n",
            "-Proximity effect factor    Yp =: 0.001524685434706513 [-]\n",
            "-AC Resistance at  90  °C R AC =: 0.15909970079952548 [Ω/m]\n"
          ]
        }
      ]
    },
    {
      "cell_type": "code",
      "source": [
        "import math\n",
        "# @title DIELECTRIC LOSSES { run: \"auto\", vertical-output: true }\n",
        "# @markdown Enter insulation properties and voltage\n",
        "ε = 2.5 # @param {type:\"number\"}\n",
        "tand = 0.001 # @param {type:\"number\"}\n",
        "d_innerScreen = 17.52 # @param {type:\"number\"}\n",
        "t_nom= 10.6 # @param {type:\"number\"}\n",
        "#@markdown Capacitance  equals :     $C = \\frac{e}{18\\ln(\\frac{D_i}{d_c})}10^{-9}$\n",
        "C=10**-9*ε/(18*math.log((d_innerScreen+(+2*t_nom))/(d_innerScreen)))\n",
        "print(\"Capacitance equals       :\",C,\" [F/km]\")\n",
        "voltage = 66000 # @param {type:\"number\"}\n",
        "W_d=2*math.pi*f*C*tand*(voltage/math.sqrt(3))**2\n",
        "print(\"Dielectric losses equals :\",W_d,\" [W/m/phase]\")\n",
        "#@markdown Dielectic losses  equals :     $W_d = 2 π f C U_o^2 tanδ$\n",
        "\n",
        "#@markdown Charging current  equals :     $I_c=2πfCU$\n",
        "I_c=2*1000*math.pi*f*C*(voltage/math.sqrt(3))\n",
        "print(\"Charging current equals  :\",I_c,\"A/km\")\n"
      ],
      "metadata": {
        "colab": {
          "base_uri": "https://localhost:8080/"
        },
        "cellView": "form",
        "id": "8xudEjjfTJQn",
        "outputId": "836883ab-486b-48d5-a185-0c0c74f77b64"
      },
      "execution_count": 42,
      "outputs": [
        {
          "output_type": "stream",
          "name": "stdout",
          "text": [
            "Capacitance equals       : 1.7514070753754955e-10  [F/km]\n",
            "Dielectric losses equals : 0.09587046524757492  [W/m/phase]\n",
            "Charging current equals  : 2.515947223546456 A/km\n"
          ]
        }
      ]
    }
  ],
  "metadata": {
    "colab": {
      "provenance": [],
      "include_colab_link": true
    },
    "kernelspec": {
      "display_name": "Python 3",
      "name": "python3"
    },
    "language_info": {
      "name": "python"
    }
  },
  "nbformat": 4,
  "nbformat_minor": 0
}