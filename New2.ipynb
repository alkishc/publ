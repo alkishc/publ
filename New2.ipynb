{
  "cells": [
    {
      "cell_type": "markdown",
      "metadata": {
        "id": "view-in-github",
        "colab_type": "text"
      },
      "source": [
        "<a href=\"https://colab.research.google.com/github/alkishc/publ/blob/main/New2.ipynb\" target=\"_parent\"><img src=\"https://colab.research.google.com/assets/colab-badge.svg\" alt=\"Open In Colab\"/></a>"
      ]
    },
    {
      "cell_type": "code",
      "source": [
        "import math\n",
        "# @title CONDUCTOR AC RESISTANCE\n",
        "#@markdown Conductor material and temperature\n",
        "Material = 'Copper' # @param [\"Copper\", \"Aluminium\"]\n",
        "if Material == 'Copper' :\n",
        "  a_20 = 3.93e-3\n",
        "  ro=1.7241e-8\n",
        "else:\n",
        "  a_20=4.03e-3\n",
        "  ro=2.8264e-8\n",
        "θ=90 # @param {type:\"number\"}\n",
        "#@markdown Enter Conductor resistance at 20°C taken from IEC 60287\n",
        "R_20 = 1.51E-5 # @param {type:\"number\"}\n",
        "#@markdown DC resistance at 90°C  equals :     $R' = R_{20}[1+a_{20}(\\theta-20) ]$\n",
        "\n",
        "#@markdown With Ks=1  and Kp=1  enter frequency f :\n",
        "R_1=float(R_20)*(1+float(a_20)*(float(θ)-20))\n",
        "ks=1\n",
        "f=50 # @param {type:\"number\"}\n",
        "kp=1\n",
        "xs=math.sqrt(8*math.pi*float(f)*1e-7*float(ks)/R_1)\n",
        "ys=xs**4/(192.0+0.8*xs**4)\n",
        "\n",
        "\n",
        "#@markdown Enter conductor diameter dc and pole diameter dj :\n",
        "dc=42.5# @param {type:\"number\"}\n",
        "dj=100.43# @param {type:\"number\"}\n",
        "xp=math.sqrt(8*math.pi*float(f)*1e-7*float(kp)/R_1)\n",
        "Fp=xp**4/(192+0.8*xp**4)\n",
        "yp=Fp*((dc/dj)**2)*(0.312*((dc/dj)**2)+1.18/(Fp+0.27))\n",
        "#@markdown AC resistance at 90°C  equals :     $R = R'(1+y_{s}+y_{s})$\n",
        "R_ac=R_1*(1+ys+yp)\n",
        "\n",
        "print(\"-DC Resistance at \",θ,\" °C R DC =:\",R_1,\"[Ω/m]\")\n",
        "print(\"-Skin effect factor         Ys =:\",ys,\"[-]\")\n",
        "print(\"-Proximity effect factor    Yp =:\",yp,\"[-]\")\n",
        "print(\"-AC Resistance at \",θ,\" °C R AC =:\",R_ac,\"[Ω/m]\")"
      ],
      "metadata": {
        "colab": {
          "base_uri": "https://localhost:8080/"
        },
        "cellView": "form",
        "id": "3W8LhlRzfKae",
        "outputId": "8ee530ba-ddec-4fbd-bc7c-27530410f575"
      },
      "execution_count": 67,
      "outputs": [
        {
          "output_type": "stream",
          "name": "stdout",
          "text": [
            "-DC Resistance at  90  °C R DC =: 1.925401e-05 [Ω/m]\n",
            "-Skin effect factor         Ys =: 0.18841698925274153 [-]\n",
            "-Proximity effect factor    Yp =: 0.08873977744843596 [-]\n",
            "-AC Resistance at  90  °C R AC =: 2.459038915763214e-05 [Ω/m]\n"
          ]
        }
      ]
    }
  ],
  "metadata": {
    "colab": {
      "provenance": [],
      "include_colab_link": true
    },
    "kernelspec": {
      "display_name": "Python 3",
      "name": "python3"
    },
    "language_info": {
      "name": "python"
    }
  },
  "nbformat": 4,
  "nbformat_minor": 0
}