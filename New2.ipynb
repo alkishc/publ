{
  "cells": [
    {
      "cell_type": "markdown",
      "metadata": {
        "id": "view-in-github",
        "colab_type": "text"
      },
      "source": [
        "<a href=\"https://colab.research.google.com/github/alkishc/publ/blob/main/New2.ipynb\" target=\"_parent\"><img src=\"https://colab.research.google.com/assets/colab-badge.svg\" alt=\"Open In Colab\"/></a>"
      ]
    },
    {
      "cell_type": "markdown",
      "source": [
        "# CONDUCTOR AC RESISTANCE\n",
        "\n",
        "Conductor DC resistance at 20C taken from IEC 60287\n",
        "\n",
        "text = 'value' # @param {type:\"string\"}"
      ],
      "metadata": {
        "id": "fSkqFPqsc8XM"
      }
    },
    {
      "cell_type": "code",
      "source": [
        "# @title CONDUCTOR AC RESISTANCE\n",
        "\n",
        "#Conductor DC resistance at 20C taken from IEC 60287\n",
        "#@markdown Enter Conductor DC resistance at 20°C taken from IEC 60287\n",
        "θ=90 # @param {type:\"number\"}\n",
        "R_20 = 1.51E-5 # @param {type:\"number\"}\n",
        "a_20=\n",
        "#@markdown DC resistance at 90°C  equals :     $R' = R_{20}[1+a_{20}(\\theta-20) ]$"
      ],
      "metadata": {
        "id": "3W8LhlRzfKae",
        "outputId": "3b576927-271e-460b-e809-bcc712b5ef1c",
        "colab": {
          "base_uri": "https://localhost:8080/",
          "height": 210
        }
      },
      "execution_count": 8,
      "outputs": [
        {
          "output_type": "error",
          "ename": "NameError",
          "evalue": "ignored",
          "traceback": [
            "\u001b[0;31m---------------------------------------------------------------------------\u001b[0m",
            "\u001b[0;31mNameError\u001b[0m                                 Traceback (most recent call last)",
            "\u001b[0;32m<ipython-input-8-60b0d325aefe>\u001b[0m in \u001b[0;36m<cell line: 7>\u001b[0;34m()\u001b[0m\n\u001b[1;32m      5\u001b[0m \u001b[0mR_20\u001b[0m \u001b[0;34m=\u001b[0m \u001b[0;36m1.51E-5\u001b[0m \u001b[0;31m# @param {type:\"number\"}\u001b[0m\u001b[0;34m\u001b[0m\u001b[0;34m\u001b[0m\u001b[0m\n\u001b[1;32m      6\u001b[0m \u001b[0;34m\u001b[0m\u001b[0m\n\u001b[0;32m----> 7\u001b[0;31m \u001b[0mprint\u001b[0m\u001b[0;34m(\u001b[0m\u001b[0mdtype\u001b[0m\u001b[0;34m(\u001b[0m\u001b[0mR_20\u001b[0m\u001b[0;34m*\u001b[0m\u001b[0;36m100\u001b[0m\u001b[0;34m)\u001b[0m\u001b[0;34m)\u001b[0m\u001b[0;34m\u001b[0m\u001b[0;34m\u001b[0m\u001b[0m\n\u001b[0m",
            "\u001b[0;31mNameError\u001b[0m: name 'dtype' is not defined"
          ]
        }
      ]
    }
  ],
  "metadata": {
    "colab": {
      "provenance": [],
      "include_colab_link": true
    },
    "kernelspec": {
      "display_name": "Python 3",
      "name": "python3"
    },
    "language_info": {
      "name": "python"
    }
  },
  "nbformat": 4,
  "nbformat_minor": 0
}